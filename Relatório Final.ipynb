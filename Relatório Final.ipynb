{
 "cells": [
  {
   "cell_type": "markdown",
   "metadata": {},
   "source": [
    "## Introdução a Ciência de Dados\n",
    "\n",
    "Professor: Yuri Malheiros\n",
    "\n",
    "## Vendas de Games em diferentes plataformas e gêneros\n",
    "\n",
    " Projeto estruturado a partir de códigos gerados através do Python utilizando o Jupyter Notebook.\n",
    "\n",
    "### Participantes:\n",
    "\n",
    "Maria Carlyni Pereira de Oliveira\n",
    "\n",
    "Matheus Fônseca Henriques\n",
    "\n",
    "Silvan Souza da Silva Lopes\n",
    "\n",
    "### Base de dados utlizado para a construção do projeto:  https://www.kaggle.com/gregorut/videogamesales"
   ]
  },
  {
   "cell_type": "markdown",
   "metadata": {},
   "source": [
    "## Introdução\n",
    "\n",
    " O objetivo deste projeto está relacionado a análise do banco de dados como um todo, tendo como motivação abordar fatores como a manipulação de dados de acordo com gênero, ano, a plataforma em que se está situada e, por fim, as vendas."
   ]
  },
  {
   "cell_type": "markdown",
   "metadata": {},
   "source": [
    "## Descrição do dataset utilizado e sua exploração inicial\n",
    "\n",
    "\n",
    "####  Este dataset contém uma lista de video games com venda estimada de mais de 100,000 cópias.\n",
    "\n",
    "\n",
    "\n",
    "\n",
    "\n",
    "\n",
    "Rank - Ranking of overall sales\n",
    "\n",
    "Name - The games name\n",
    "\n",
    "Platform - Platform of the games release (i.e. PC,PS4, etc.)\n",
    "\n",
    "Year - Year of the game's release\n",
    "\n",
    "Genre - Genre of the game\n",
    "\n",
    "Publisher - Publisher of the game\n",
    "\n",
    "NA_Sales - Sales in North America (in millions)\n",
    "\n",
    "EU_Sales - Sales in Europe (in millions)\n",
    "\n",
    "JP_Sales - Sales in Japan (in millions)\n",
    "\n",
    "Other_Sales - Sales in the rest of the world (in millions)\n",
    "\n",
    "Global_Sales - Total worldwide sales."
   ]
  },
  {
   "cell_type": "code",
   "execution_count": 13,
   "metadata": {},
   "outputs": [],
   "source": [
    "# inserir exploração inicial"
   ]
  },
  {
   "cell_type": "markdown",
   "metadata": {},
   "source": [
    "# Pré-processamento\n",
    "\n"
   ]
  },
  {
   "cell_type": "code",
   "execution_count": 7,
   "metadata": {},
   "outputs": [],
   "source": [
    "# /inserir a limpeza e transformação dos dados necessários/"
   ]
  },
  {
   "cell_type": "markdown",
   "metadata": {},
   "source": [
    "# Perguntas \n",
    "\n",
    "1. De acordo com os anos, quais foram os anos em que a produção de jogo foi maior e se tem algum vínculo com os títulos mais vendidos?"
   ]
  },
  {
   "cell_type": "code",
   "execution_count": 6,
   "metadata": {},
   "outputs": [],
   "source": [
    "# inserir e executar o passo a passo para respondê-las\n",
    "# (vocês devem utilizar regressão linear ou agrupamento em pelo menos uma pergunta)/"
   ]
  },
  {
   "cell_type": "markdown",
   "metadata": {},
   "source": [
    "2. Quais gêneros podemos comparar se analisarmos a venda dos jogos ao longos dos anos e como podemos identificar se foi de forma crescente ou decrescente?\n",
    "\n"
   ]
  },
  {
   "cell_type": "code",
   "execution_count": null,
   "metadata": {},
   "outputs": [],
   "source": [
    "# /inserir e executar o passo a passo para respondê-las \n",
    "# (vocês devem utilizar regressão linear ou agrupamento em pelo menos uma pergunta)/"
   ]
  },
  {
   "cell_type": "markdown",
   "metadata": {},
   "source": [
    "3. O impulso das vendas entre 2005 e 2010 está relacionado a determinada plataforma em que, por exemplo, o preço do console fez com que o jogo tivesse gerado um rendimento bom? "
   ]
  },
  {
   "cell_type": "code",
   "execution_count": 9,
   "metadata": {},
   "outputs": [],
   "source": [
    "# /inserir e executar o passo a passo para respondê-las \n",
    "# (vocês devem utilizar regressão linear ou agrupamento em pelo menos uma pergunta)/"
   ]
  },
  {
   "cell_type": "markdown",
   "metadata": {},
   "source": [
    "# Conclusão"
   ]
  },
  {
   "cell_type": "code",
   "execution_count": 12,
   "metadata": {},
   "outputs": [],
   "source": [
    "# resumir os resultados encontrados e explicar por que são importantes.\n",
    "# apontar limitações, trabalhos futuros e melhorias que podem ser feitas.\n"
   ]
  }
 ],
 "metadata": {
  "kernelspec": {
   "display_name": "Python 3",
   "language": "python",
   "name": "python3"
  },
  "language_info": {
   "codemirror_mode": {
    "name": "ipython",
    "version": 3
   },
   "file_extension": ".py",
   "mimetype": "text/x-python",
   "name": "python",
   "nbconvert_exporter": "python",
   "pygments_lexer": "ipython3",
   "version": "3.7.9"
  }
 },
 "nbformat": 4,
 "nbformat_minor": 4
}
